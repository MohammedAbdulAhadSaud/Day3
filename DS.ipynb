#line chart
import matplotlib.pyplot as plt

x = [1, 2, 3, 4, 5]
y = [2, 4, 1, 5, 3]

plt.plot(x, y)
plt.xlabel("X-axis")
plt.ylabel("Y-axis")
plt.title("Line Plot")
plt.show()

#Area plots
import matplotlib.pyplot as plt

x = [1, 2, 3, 4, 5]
y = [2, 4, 1, 5, 3]

plt.fill_between(x, y)
plt.xlabel("X-axis")
plt.ylabel("Y-axis")
plt.title("Area Plot")
plt.show()

#Histogram
import matplotlib.pyplot as plt
import numpy as np

data = np.random.randn(1000) 

plt.hist(data, bins=30)
plt.xlabel("Value")
plt.ylabel("Frequency")
plt.title("Histogram")
plt.show()

#Bar charts
import matplotlib.pyplot as plt

categories = ['A', 'B', 'C', 'D']
values = [10, 5, 15, 8]

plt.bar(categories, values)
plt.xlabel("Categories")
plt.ylabel("Values")
plt.title("Bar Chart")
plt.show()

#pie chart
import matplotlib.pyplot as plt

labels = ['A', 'B', 'C']
sizes = [40, 30, 30]

plt.pie(sizes, labels=labels, autopct='%1.1f%%')
plt.title("Pie Chart")
plt.show()

#Box plots
import matplotlib.pyplot as plt
import numpy as np

data = np.random.randn(100)

plt.boxplot(data)
plt.ylabel("Values")
plt.title("Box Plot")
plt.show()

#Heatmap

import matplotlib.pyplot as plt
import numpy as np

data = np.random.randn(100)

plt.boxplot(data)
plt.ylabel("Values")
plt.title("Box Plot")
plt.show()
